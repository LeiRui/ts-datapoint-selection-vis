{
 "cells": [
  {
   "attachments": {},
   "cell_type": "markdown",
   "metadata": {},
   "source": [
    "Aim of this notebook:\n",
    "\n",
    "construct the plotly and matplotlib figures which will be used for the various \n",
    "benchmarking configurations. "
   ]
  },
  {
   "cell_type": "code",
   "execution_count": 3,
   "metadata": {},
   "outputs": [
    {
     "name": "stdout",
     "output_type": "stream",
     "text": [
      "The autoreload extension is already loaded. To reload it, use:\n",
      "  %reload_ext autoreload\n"
     ]
    }
   ],
   "source": [
    "%load_ext autoreload\n",
    "%autoreload 2"
   ]
  },
  {
   "cell_type": "code",
   "execution_count": 4,
   "metadata": {},
   "outputs": [],
   "source": [
    "import numpy as np\n",
    "import plotly.express as px\n",
    "import pandas as pd\n",
    "from pathlib import Path\n",
    "import os\n",
    "\n",
    "# prevent images from appearing in the notebook\n",
    "import matplotlib\n",
    "\n",
    "matplotlib.use(\"Agg\")\n",
    "\n",
    "import itertools\n",
    "\n",
    "from tqdm.auto import tqdm\n",
    "from multiprocessing import Pool\n",
    "import traceback\n",
    "\n",
    "import sys\n",
    "\n",
    "sys.path.append(\"..\")\n",
    "from agg_utils.path_conf import figure_root_dir, loc_data_dir\n",
    "from agg_utils.fig_construction import (\n",
    "    construct_plotly_fig,\n",
    "    construct_matplotlib_fig,\n",
    "    construct_bokeh_fig,\n",
    ")\n"
   ]
  },
  {
   "cell_type": "code",
   "execution_count": null,
   "metadata": {},
   "outputs": [],
   "source": [
    "# read in the agg data csv from `0.2_create_agg_data.ipynb` and construct the\n",
    "# corresponding data dicts which will be used by the visualization toolkits to \n",
    "# operate upon\n",
    "df_agg_data = pd.read_csv(loc_data_dir / \"agg_data.csv\")\n",
    "n_out_mask = pd.isna(df_agg_data.n_out)\n",
    "\n",
    "def read_set_index_first_col(pqt_path) -> pd.Series:\n",
    "    df = pd.read_parquet(pqt_path)\n",
    "    df = df.set_index(df.columns[0], drop=True)\n",
    "    assert len(df.columns) == 1\n",
    "    return df.iloc[:, 0]\n",
    "\n",
    "agg_data_dict = {\n",
    "    f\"{r.data}_{r.aggregator}_{r.n}_{int(r.n_out)}\": read_set_index_first_col(r.path)\n",
    "    for _, r in tqdm(df_agg_data[~n_out_mask].iterrows(), total=sum(~n_out_mask))\n",
    "}\n",
    "\n",
    "ref_data_dict = {\n",
    "    f\"{r.data}_{r.aggregator}_{r.n}\": read_set_index_first_col(r.path)\n",
    "    for _, r in tqdm(df_agg_data[n_out_mask].iterrows(), total=sum(n_out_mask))\n",
    "}"
   ]
  },
  {
   "attachments": {},
   "cell_type": "markdown",
   "metadata": {},
   "source": [
    "### `matplotlib` images"
   ]
  },
  {
   "cell_type": "code",
   "execution_count": 6,
   "metadata": {},
   "outputs": [],
   "source": [
    "antialiasing_grid = [True, False]\n",
    "line_width_grid = [1, 2, 3, 4]\n",
    "drawstyle_grid = [\"default\", \"steps-mid\", \"steps-pre\", \"steps-post\"][:2]\n",
    "\n",
    "matplotlib_save_dir = figure_root_dir / \"matplotlib\"\n",
    "if not matplotlib_save_dir.exists():\n",
    "    os.makedirs(matplotlib_save_dir)"
   ]
  },
  {
   "cell_type": "code",
   "execution_count": null,
   "metadata": {},
   "outputs": [],
   "source": [
    "matplotlib_image_grid = antialiasing_grid, line_width_grid, drawstyle_grid\n",
    "\n",
    "# fmt: off\n",
    "# iterate over the visualization configuration grid and over the REFERENCE images\n",
    "for antialiasing, line_width, drawstyle in tqdm( list(itertools.product(*matplotlib_image_grid))):\n",
    "    for k, data in tqdm(list(ref_data_dict.items())):\n",
    "        s_name, _, n = k.split(\"_\")\n",
    "        xlim = (data.index[0], data.index[-1])\n",
    "        ylim = (data.min(), data.max())\n",
    "        save_name = ( str(matplotlib_save_dir)\n",
    "            + f\"/reference_{s_name}_{n}_ls={drawstyle}_lw={line_width}\"\n",
    "            + f\"{'_aa' if antialiasing else ''}\"\n",
    "        )\n",
    "        construct_matplotlib_fig(\n",
    "            data.index,\n",
    "            data.values,\n",
    "            save_path=save_name + \".png\",\n",
    "            aa=antialiasing,\n",
    "            xlim=xlim,\n",
    "            ylim=ylim,\n",
    "            line_width_px=line_width,\n",
    "            drawstyle=drawstyle,\n",
    "        )\n"
   ]
  },
  {
   "cell_type": "code",
   "execution_count": null,
   "metadata": {},
   "outputs": [],
   "source": [
    "def wrap_create_matplotlib_figs(k: str):\n",
    "    s_name, aggregator, n, n_out = k.split(\"_\")\n",
    "    agg_data = agg_data_dict[k]\n",
    "    ref_data = ref_data_dict[f\"{s_name}_reference_{n}\"]\n",
    "    xlim = (ref_data.index[0], ref_data.index[-1])\n",
    "    ylim = (ref_data.min(), ref_data.max())\n",
    "    for antialiasing, line_width, drawstyle in tqdm(\n",
    "        list(itertools.product(*matplotlib_image_grid))\n",
    "    ):\n",
    "        save_name = (\n",
    "            str(matplotlib_save_dir)\n",
    "            + f\"/{aggregator}_{s_name}_{n}_{int(n_out)}_ls={drawstyle}_lw={line_width}\"\n",
    "            f\"{'_aa' if antialiasing else ''}\"\n",
    "        )\n",
    "        construct_matplotlib_fig(\n",
    "            agg_data.index,\n",
    "            agg_data.values.ravel(),\n",
    "            save_path=save_name + \".png\",\n",
    "            aa=antialiasing,\n",
    "            xlim=xlim,\n",
    "            ylim=ylim,\n",
    "            line_width_px=line_width,\n",
    "            drawstyle=drawstyle,\n",
    "        )\n",
    "\n",
    "# Create the AGGREGATED images\n",
    "t_list = list(agg_data_dict.keys())\n",
    "with Pool(processes=8) as pool:\n",
    "    results = pool.imap_unordered(wrap_create_matplotlib_figs, t_list)\n",
    "    results = tqdm(results, total=len(t_list))\n",
    "    try:\n",
    "        out = [f for f in results]\n",
    "        del results\n",
    "    except:\n",
    "        traceback.print_exc()\n",
    "        pool.terminate()\n",
    "    finally:\n",
    "        pool.close()\n",
    "        pool.join()\n"
   ]
  },
  {
   "attachments": {},
   "cell_type": "markdown",
   "metadata": {},
   "source": [
    "### `matplotlib` images - `cairo` backend"
   ]
  },
  {
   "cell_type": "code",
   "execution_count": 15,
   "metadata": {},
   "outputs": [
    {
     "data": {
      "application/vnd.jupyter.widget-view+json": {
       "model_id": "952b867bf6144fcb8e87d82f28e52113",
       "version_major": 2,
       "version_minor": 0
      },
      "text/plain": [
       "  0%|          | 0/8 [00:00<?, ?it/s]"
      ]
     },
     "metadata": {},
     "output_type": "display_data"
    },
    {
     "data": {
      "application/vnd.jupyter.widget-view+json": {
       "model_id": "e6fad0a510ae407aad35660f188f8223",
       "version_major": 2,
       "version_minor": 0
      },
      "text/plain": [
       "  0%|          | 0/36672 [00:00<?, ?it/s]"
      ]
     },
     "metadata": {},
     "output_type": "display_data"
    }
   ],
   "source": [
    "antialiasing_grid = [True, False]\n",
    "line_width_grid = [1, 2, 3, 4]\n",
    "drawstyle_grid = [\"default\", \"steps-mid\", \"steps-pre\", \"steps-post\"][:1]\n",
    "\n",
    "matplotlib_save_dir = figure_root_dir / \"matplotlib_cairo\"\n",
    "if not matplotlib_save_dir.exists():\n",
    "    os.makedirs(matplotlib_save_dir)\n",
    "matplotlib_image_grid = antialiasing_grid, line_width_grid, drawstyle_grid\n",
    "\n",
    "# fmt: off\n",
    "# iterate over the visualization configuration grid and over the REFERENCE images\n",
    "for antialiasing, line_width, drawstyle in tqdm( list(itertools.product(*matplotlib_image_grid))):\n",
    "    for k, data in ref_data_dict.items():\n",
    "        s_name, _, n = k.split(\"_\")\n",
    "        xlim = (data.index[0], data.index[-1])\n",
    "        ylim = (data.min(), data.max())\n",
    "        save_name = ( str(matplotlib_save_dir)\n",
    "            + f\"/reference_{s_name}_{n}_ls={drawstyle}_lw={line_width}\"\n",
    "            + f\"{'_aa' if antialiasing else ''}\"\n",
    "        )\n",
    "        construct_matplotlib_fig(\n",
    "            data.index,\n",
    "            data.values,\n",
    "            save_path=save_name + \".png\",\n",
    "            aa=antialiasing,\n",
    "            xlim=xlim,\n",
    "            ylim=ylim,\n",
    "            line_width_px=line_width,\n",
    "            drawstyle=drawstyle,\n",
    "            backend='cairo'\n",
    "        )\n",
    "\n",
    "def wrap_create_matplotlib_figs(k: str):\n",
    "    s_name, aggregator, n, n_out = k.split(\"_\")\n",
    "    agg_data = agg_data_dict[k]\n",
    "    ref_data = ref_data_dict[f\"{s_name}_reference_{n}\"]\n",
    "    xlim = (ref_data.index[0], ref_data.index[-1])\n",
    "    ylim = (ref_data.min(), ref_data.max())\n",
    "    for antialiasing, line_width, drawstyle in tqdm(\n",
    "        list(itertools.product(*matplotlib_image_grid))\n",
    "    ):\n",
    "        save_name = (\n",
    "            str(matplotlib_save_dir)\n",
    "            + f\"/{aggregator}_{s_name}_{n}_{int(n_out)}_ls={drawstyle}_lw={line_width}\"\n",
    "            f\"{'_aa' if antialiasing else ''}\"\n",
    "        )\n",
    "        construct_matplotlib_fig(\n",
    "            agg_data.index,\n",
    "            agg_data.values.ravel(),\n",
    "            save_path=save_name + \".png\",\n",
    "            aa=antialiasing,\n",
    "            xlim=xlim,\n",
    "            ylim=ylim,\n",
    "            line_width_px=line_width,\n",
    "            drawstyle=drawstyle,\n",
    "            backend='cairo'\n",
    "        )\n",
    "\n",
    "t_list = list(agg_data_dict.keys())\n",
    "with Pool(processes=8) as pool:\n",
    "    results = pool.imap_unordered(wrap_create_matplotlib_figs, t_list)\n",
    "    results = tqdm(results, total=len(t_list))\n",
    "    try:\n",
    "        out = [f for f in results]\n",
    "        del results\n",
    "    except:\n",
    "        traceback.print_exc()\n",
    "        pool.terminate()\n",
    "    finally:\n",
    "        pool.close()\n",
    "        pool.join()\n"
   ]
  },
  {
   "cell_type": "markdown",
   "metadata": {},
   "source": [
    "### `plotly` images"
   ]
  },
  {
   "cell_type": "code",
   "execution_count": null,
   "metadata": {},
   "outputs": [],
   "source": [
    "line_shape_grid = [\"linear\", \"spline\", \"vhv\"]\n",
    "\n",
    "plotly_save_dir = figure_root_dir / \"plotly\"\n",
    "if not plotly_save_dir.exists():\n",
    "    os.makedirs(plotly_save_dir)\n",
    "plotly_vis_grid = line_width_grid, line_shape_grid\n"
   ]
  },
  {
   "cell_type": "code",
   "execution_count": null,
   "metadata": {},
   "outputs": [],
   "source": [
    "# iterate over the visualization configuration grid and over the reference images\n",
    "# NOTE: this may take a while\n",
    "for line_width, drawstyle in tqdm(list(itertools.product(*plotly_vis_grid))):\n",
    "    for k, data in tqdm(list(ref_data_dict.items())):\n",
    "        s_name, _, n = k.split(\"_\")\n",
    "        xlim = (data.index[0], data.index[-1])\n",
    "        ylim = (data.min(), data.max())\n",
    "        save_name = (\n",
    "            str(plotly_save_dir)\n",
    "            + f\"/reference_{s_name}_{n}_ls={drawstyle}_lw={line_width}\"\n",
    "        )\n",
    "        construct_plotly_fig(\n",
    "            data.index,\n",
    "            data.values,\n",
    "            save_path=save_name + \".png\",\n",
    "            xlim=xlim,\n",
    "            ylim=ylim,\n",
    "            line_width=line_width,\n",
    "            line_shape=drawstyle,\n",
    "        )\n"
   ]
  },
  {
   "cell_type": "code",
   "execution_count": null,
   "metadata": {},
   "outputs": [],
   "source": [
    "def wrap_create_plotly_figs(k: str):\n",
    "    s_name, aggregator, n, n_out = k.split(\"_\")\n",
    "    agg_data = agg_data_dict[k]\n",
    "    ref_data = ref_data_dict[f\"{s_name}_reference_{n}\"]\n",
    "    xlim = (ref_data.index[0], ref_data.index[-1])\n",
    "    ylim = (ref_data.min(), ref_data.max())\n",
    "    for line_width, drawstyle in itertools.product(*plotly_vis_grid):\n",
    "        save_name =  str(plotly_save_dir) + f\"/{aggregator}_{s_name}_{n}_{int(n_out)}_ls={drawstyle}_lw={line_width}\"\n",
    "        construct_plotly_fig(\n",
    "            agg_data.index,\n",
    "            agg_data.values.ravel(),\n",
    "            save_path=save_name + \".png\",\n",
    "            xlim=xlim,\n",
    "            ylim=ylim,\n",
    "            line_width=line_width,\n",
    "            line_shape=drawstyle,\n",
    "        )\n",
    "\n",
    "\n",
    "t_list = list(agg_data_dict.keys())\n",
    "with Pool(processes=8) as pool:\n",
    "    results = pool.imap_unordered(wrap_create_plotly_figs, t_list)\n",
    "    results = tqdm(results, total=len(t_list))\n",
    "    try:\n",
    "        [f for f in results]\n",
    "        del results\n",
    "    except:\n",
    "        traceback.print_exc()\n",
    "        pool.terminate()\n",
    "    finally:\n",
    "        pool.close()\n",
    "        pool.join()\n"
   ]
  },
  {
   "attachments": {},
   "cell_type": "markdown",
   "metadata": {},
   "source": [
    "### `bokeh` images"
   ]
  },
  {
   "cell_type": "code",
   "execution_count": 7,
   "metadata": {},
   "outputs": [],
   "source": [
    "bokeh_save_dir = figure_root_dir / \"bokeh\"\n",
    "if not bokeh_save_dir.exists():\n",
    "    os.makedirs(bokeh_save_dir)\n",
    "bokeh_vis_grid = line_width_grid, drawstyle_grid\n"
   ]
  },
  {
   "cell_type": "code",
   "execution_count": 8,
   "metadata": {},
   "outputs": [
    {
     "data": {
      "application/vnd.jupyter.widget-view+json": {
       "model_id": "eebcb7a6fd0e49b3a7c908f2bd3b0fcd",
       "version_major": 2,
       "version_minor": 0
      },
      "text/plain": [
       "  0%|          | 0/8 [00:00<?, ?it/s]"
      ]
     },
     "metadata": {},
     "output_type": "display_data"
    },
    {
     "data": {
      "application/vnd.jupyter.widget-view+json": {
       "model_id": "2c486b0be228495f843d126c49df1aa8",
       "version_major": 2,
       "version_minor": 0
      },
      "text/plain": [
       "  0%|          | 0/24 [00:00<?, ?it/s]"
      ]
     },
     "metadata": {},
     "output_type": "display_data"
    },
    {
     "data": {
      "application/vnd.jupyter.widget-view+json": {
       "model_id": "8527c198d87b4e0fa21fff98c366aea7",
       "version_major": 2,
       "version_minor": 0
      },
      "text/plain": [
       "  0%|          | 0/24 [00:00<?, ?it/s]"
      ]
     },
     "metadata": {},
     "output_type": "display_data"
    },
    {
     "data": {
      "application/vnd.jupyter.widget-view+json": {
       "model_id": "c45472b31c4343afbe85327de3b689f8",
       "version_major": 2,
       "version_minor": 0
      },
      "text/plain": [
       "  0%|          | 0/24 [00:00<?, ?it/s]"
      ]
     },
     "metadata": {},
     "output_type": "display_data"
    },
    {
     "data": {
      "application/vnd.jupyter.widget-view+json": {
       "model_id": "f44d21ca8f4a457ba8083f30f3472bdb",
       "version_major": 2,
       "version_minor": 0
      },
      "text/plain": [
       "  0%|          | 0/24 [00:00<?, ?it/s]"
      ]
     },
     "metadata": {},
     "output_type": "display_data"
    },
    {
     "data": {
      "application/vnd.jupyter.widget-view+json": {
       "model_id": "296e21f572134fd9bc0efd8b141d3b23",
       "version_major": 2,
       "version_minor": 0
      },
      "text/plain": [
       "  0%|          | 0/24 [00:00<?, ?it/s]"
      ]
     },
     "metadata": {},
     "output_type": "display_data"
    },
    {
     "data": {
      "application/vnd.jupyter.widget-view+json": {
       "model_id": "68f7b6c6fefd45518aa179979352f5bb",
       "version_major": 2,
       "version_minor": 0
      },
      "text/plain": [
       "  0%|          | 0/24 [00:00<?, ?it/s]"
      ]
     },
     "metadata": {},
     "output_type": "display_data"
    },
    {
     "data": {
      "application/vnd.jupyter.widget-view+json": {
       "model_id": "824ab00ebf404f169997edc03af1be33",
       "version_major": 2,
       "version_minor": 0
      },
      "text/plain": [
       "  0%|          | 0/24 [00:00<?, ?it/s]"
      ]
     },
     "metadata": {},
     "output_type": "display_data"
    },
    {
     "data": {
      "application/vnd.jupyter.widget-view+json": {
       "model_id": "a9934c3704484d738e763cacab741134",
       "version_major": 2,
       "version_minor": 0
      },
      "text/plain": [
       "  0%|          | 0/24 [00:00<?, ?it/s]"
      ]
     },
     "metadata": {},
     "output_type": "display_data"
    }
   ],
   "source": [
    "# iterate over the visualization configuration grid and over the REFERENCE images\n",
    "for line_width, drawstyle in tqdm(list(itertools.product(*bokeh_vis_grid))):\n",
    "    for k, data in tqdm(list(ref_data_dict.items())):\n",
    "        s_name, _, n = k.split(\"_\")\n",
    "        xlim = (data.index[0], data.index[-1])\n",
    "        ylim = (data.min(), data.max())\n",
    "        save_name = (\n",
    "            str(bokeh_save_dir)\n",
    "            + f\"/reference_{s_name}_{n}_ls={drawstyle}_lw={line_width}\"\n",
    "        )\n",
    "        construct_bokeh_fig(\n",
    "            data.index,\n",
    "            data.values,\n",
    "            save_path=save_name + \".png\",\n",
    "            xlim=xlim,\n",
    "            ylim=ylim,\n",
    "            line_width=line_width,\n",
    "            line_shape=drawstyle,\n",
    "        )\n"
   ]
  },
  {
   "attachments": {},
   "cell_type": "markdown",
   "metadata": {},
   "source": [
    "**note**: constructing bokeh images is `slow` (see [this stackoverflow answer](https://stackoverflow.com/a/59184722)), and cannot be sped up by using multiprocessing. As such, we do not use the above approach for bokeh images, but a [python_script](construct_bokeh_figs.py),which can be run in a screen session. \n",
    "\n",
    "Note: It took ~1 day to compute the bokeh images."
   ]
  }
 ],
 "metadata": {
  "kernelspec": {
   "display_name": "Python 3 (ipykernel)",
   "language": "python",
   "name": "python3"
  },
  "language_info": {
   "codemirror_mode": {
    "name": "ipython",
    "version": 3
   },
   "file_extension": ".py",
   "mimetype": "text/x-python",
   "name": "python",
   "nbconvert_exporter": "python",
   "pygments_lexer": "ipython3",
   "version": "3.10.10"
  },
  "orig_nbformat": 4
 },
 "nbformat": 4,
 "nbformat_minor": 2
}
