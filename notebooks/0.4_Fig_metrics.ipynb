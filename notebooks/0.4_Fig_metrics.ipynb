{
 "cells": [
  {
   "cell_type": "code",
   "execution_count": 1,
   "metadata": {},
   "outputs": [],
   "source": [
    "%load_ext autoreload\n",
    "%autoreload 2"
   ]
  },
  {
   "cell_type": "code",
   "execution_count": 2,
   "metadata": {},
   "outputs": [],
   "source": [
    "import sys\n",
    "\n",
    "sys.path.append(\"..\")\n",
    "\n",
    "import pandas as pd\n",
    "from tqdm.auto import tqdm\n",
    "from pathlib import Path\n",
    "import matplotlib.pyplot as plt\n",
    "import plotly.graph_objects as go\n",
    "import numpy as np\n",
    "\n",
    "from multiprocessing import Pool\n",
    "import traceback\n",
    "from functional import seq\n",
    "\n",
    "from agg_utils.metrics import compute_dssim_matplotlib, compute_dssim_plotly\n",
    "from agg_utils.path_conf import figure_root_dir\n",
    "from plotly.subplots import make_subplots"
   ]
  },
  {
   "attachments": {},
   "cell_type": "markdown",
   "metadata": {},
   "source": [
    "# Calculation of the Metrics "
   ]
  },
  {
   "attachments": {},
   "cell_type": "markdown",
   "metadata": {},
   "source": [
    "## Matplotlib figures"
   ]
  },
  {
   "cell_type": "code",
   "execution_count": 3,
   "metadata": {},
   "outputs": [
    {
     "data": {
      "application/vnd.jupyter.widget-view+json": {
       "model_id": "9562fff2c0bb48ff95f57b0c63bf8183",
       "version_major": 2,
       "version_minor": 0
      },
      "text/plain": [
       "  0%|          | 0/384 [00:00<?, ?it/s]"
      ]
     },
     "metadata": {},
     "output_type": "display_data"
    }
   ],
   "source": [
    "# Create a dichw chih contains the reference images, which saves the time of loading\n",
    "# the reference images every time\n",
    "ref_dict = {\n",
    "    str(p): (255 * plt.imread(p)).astype(np.float32)\n",
    "    for p in tqdm(list((figure_root_dir / \"matplotlib\").glob(\"reference_*.png\")))\n",
    "}\n",
    "\n",
    "# files = seq((figure_root_dir / \"matplotlib\").glob(\"*200000*ls=default*lw=1*.png\")).filter(lambda x: 'reference' not in x.name).to_list()\n",
    "files = seq((figure_root_dir / \"matplotlib\").glob(\"*.png\")).filter(lambda x: 'reference' not in x.name).to_list()"
   ]
  },
  {
   "cell_type": "code",
   "execution_count": 7,
   "metadata": {},
   "outputs": [
    {
     "data": {
      "application/vnd.jupyter.widget-view+json": {
       "model_id": "2fc02d6d2e61406aa7e4faf3d7a18abf",
       "version_major": 2,
       "version_minor": 0
      },
      "text/plain": [
       "  0%|          | 0/586752 [00:00<?, ?it/s]"
      ]
     },
     "metadata": {},
     "output_type": "display_data"
    }
   ],
   "source": [
    "def wrap_compute_dssim_matplotlib(agg_path):\n",
    "    return compute_dssim_matplotlib(agg_path, mse=True, ref_dict=ref_dict)\n",
    "\n",
    "out = []\n",
    "with Pool(processes=8) as pool:\n",
    "    results = pool.imap_unordered(wrap_compute_dssim_matplotlib, files)\n",
    "    results = tqdm(results, total=len(files))\n",
    "    try:\n",
    "        out = [f for f in results]\n",
    "        del results\n",
    "    except:\n",
    "        traceback.print_exc()\n",
    "        pool.terminate()\n",
    "    finally:\n",
    "        pool.close()\n",
    "        pool.join()\n",
    "\n",
    "\n",
    "df_out = pd.concat(out, axis=1).T\n",
    "# df_out.to_csv(\"../loc_data/matplotlib_metrics_v4.csv\", index=False)\n",
    "\n",
    "cat_cols = ['toolkit', 'data', 'aggregator', 'ls']\n",
    "int_cols = ['n', 'lw', 'n_out']\n",
    "for c in cat_cols:\n",
    "    df_out[c] = df_out[c].astype('category')\n",
    "for c in int_cols:\n",
    "    df_out[c] = df_out[c].astype('int')\n",
    "df_out['aa'] = df_out['aa'].astype('bool')\n",
    "\n",
    "\n",
    "\n",
    "for c in set(df_out.columns).difference(cat_cols + int_cols + ['aa']):\n",
    "    df_out[c] = df_out[c].astype('float')\n",
    "df_out.to_parquet(\"../loc_data/matplotlib_metrics_v4.parquet\")\n"
   ]
  },
  {
   "attachments": {},
   "cell_type": "markdown",
   "metadata": {},
   "source": [
    "## Matplotlib `cairo` figures"
   ]
  },
  {
   "cell_type": "code",
   "execution_count": 32,
   "metadata": {},
   "outputs": [
    {
     "data": {
      "application/vnd.jupyter.widget-view+json": {
       "model_id": "612343cfc458429eacd6ddd9741df8a0",
       "version_major": 2,
       "version_minor": 0
      },
      "text/plain": [
       "  0%|          | 0/192 [00:00<?, ?it/s]"
      ]
     },
     "metadata": {},
     "output_type": "display_data"
    }
   ],
   "source": [
    "ref_dict = {\n",
    "    str(p): (255 * plt.imread(p)).astype(np.float32)\n",
    "    for p in tqdm(list((figure_root_dir / \"matplotlib_cairo\").glob(\"reference_*.png\")))\n",
    "}\n",
    "\n",
    "# files = seq((figure_root_dir / \"matplotlib\").glob(\"*200000*ls=default*lw=1*.png\")).filter(lambda x: 'reference' not in x.name).to_list()\n",
    "files = seq((figure_root_dir / \"matplotlib_cairo\").glob(\"*.png\")).filter(lambda x: 'reference' not in x.name).to_list()"
   ]
  },
  {
   "cell_type": "code",
   "execution_count": 33,
   "metadata": {},
   "outputs": [
    {
     "data": {
      "application/vnd.jupyter.widget-view+json": {
       "model_id": "2e0a50d1afed4991bc89aa3a0056377b",
       "version_major": 2,
       "version_minor": 0
      },
      "text/plain": [
       "  0%|          | 0/293376 [00:00<?, ?it/s]"
      ]
     },
     "metadata": {},
     "output_type": "display_data"
    }
   ],
   "source": [
    "def wrap_compute_dssim_matplotlib(agg_path):\n",
    "    return compute_dssim_matplotlib(agg_path, mse=True, ref_dict=ref_dict)\n",
    "\n",
    "out = []\n",
    "with Pool(processes=8) as pool:\n",
    "    results = pool.imap_unordered(wrap_compute_dssim_matplotlib, files)\n",
    "    results = tqdm(results, total=len(files))\n",
    "    try:\n",
    "        out = [f for f in results]\n",
    "        del results\n",
    "    except:\n",
    "        traceback.print_exc()\n",
    "        pool.terminate()\n",
    "    finally:\n",
    "        pool.close()\n",
    "        pool.join()\n",
    "\n",
    "\n",
    "df_out = pd.concat(out, axis=1).T\n",
    "# df_out.to_csv(\"../loc_data/matplotlib_cairo_metrics_v4.csv\", index=False)\n",
    "\n",
    "cat_cols = ['toolkit', 'data', 'aggregator', 'ls']\n",
    "int_cols = ['n', 'lw', 'n_out']\n",
    "for c in cat_cols:\n",
    "    df_out[c] = df_out[c].astype('category')\n",
    "for c in int_cols:\n",
    "    df_out[c] = df_out[c].astype('int')\n",
    "df_out['aa'] = df_out['aa'].astype('bool')\n",
    "\n",
    "\n",
    "\n",
    "for c in set(df_out.columns).difference(cat_cols + int_cols + ['aa']):\n",
    "    df_out[c] = df_out[c].astype('float')\n",
    "df_out.to_parquet(\"../loc_data/matplotlib_cairo_metrics_v4.parquet\")\n"
   ]
  },
  {
   "attachments": {},
   "cell_type": "markdown",
   "metadata": {},
   "source": [
    "## `plotly` figures"
   ]
  },
  {
   "cell_type": "code",
   "execution_count": 12,
   "metadata": {},
   "outputs": [
    {
     "data": {
      "application/vnd.jupyter.widget-view+json": {
       "model_id": "d9695ee4271e4752b145c7032191ea3d",
       "version_major": 2,
       "version_minor": 0
      },
      "text/plain": [
       "  0%|          | 0/288 [00:00<?, ?it/s]"
      ]
     },
     "metadata": {},
     "output_type": "display_data"
    }
   ],
   "source": [
    "ref_dict = {\n",
    "    str(p): (255 - 255 * plt.imread(p)).astype(np.float32)\n",
    "    for p in tqdm(list((figure_root_dir / \"plotly\").glob(\"reference_*.png\")))\n",
    "}\n",
    "\n",
    "files = seq((figure_root_dir / \"plotly\").glob(\"*.png\")).filter(lambda x: 'reference' not in x.name).to_list()\n",
    "\n",
    "# files = seq((figure_root_dir / \"plotly\").glob(\"*200000*ls=linear*lw=1.png\")).filter(lambda x: 'reference' not in x.name).to_list()"
   ]
  },
  {
   "cell_type": "code",
   "execution_count": 13,
   "metadata": {},
   "outputs": [
    {
     "data": {
      "application/vnd.jupyter.widget-view+json": {
       "model_id": "5b3b5cd51ce642a0a0a0ef14cbfab4be",
       "version_major": 2,
       "version_minor": 0
      },
      "text/plain": [
       "  0%|          | 0/440064 [00:00<?, ?it/s]"
      ]
     },
     "metadata": {},
     "output_type": "display_data"
    }
   ],
   "source": [
    "def wrap_compute_dssim_plotly(agg_path):\n",
    "    return compute_dssim_plotly(agg_path, mse=True, ref_dict=ref_dict)\n",
    "\n",
    "out = []\n",
    "with Pool(processes=8) as pool:\n",
    "    results = pool.imap_unordered(wrap_compute_dssim_plotly, files)\n",
    "    results = tqdm(results, total=len(files))\n",
    "    try:\n",
    "        out = [f for f in results]\n",
    "        del results\n",
    "    except:\n",
    "        traceback.print_exc()\n",
    "        pool.terminate()\n",
    "    finally:\n",
    "        pool.close()\n",
    "        pool.join()\n",
    "\n",
    "\n",
    "df_out = pd.concat(out, axis=1).T\n",
    "# df_out.to_csv(\"../loc_data/plotly_metrics_v4.csv\", index=False)\n",
    "\n",
    "cat_cols = ['toolkit', 'data', 'aggregator', 'ls']\n",
    "int_cols = ['n', 'lw', 'n_out']\n",
    "for c in cat_cols:\n",
    "    df_out[c] = df_out[c].astype('category')\n",
    "for c in int_cols:\n",
    "    df_out[c] = df_out[c].astype('int')\n",
    "df_out['aa'] = df_out['aa'].astype('bool')\n",
    "\n",
    "\n",
    "for c in set(df_out.columns).difference(cat_cols + int_cols + ['aa']):\n",
    "    df_out[c] = df_out[c].astype('float')\n",
    "df_out.to_parquet(\"../loc_data/plotly_metrics_v4.parquet\")\n"
   ]
  },
  {
   "attachments": {},
   "cell_type": "markdown",
   "metadata": {},
   "source": [
    "## `bokeh` figures"
   ]
  },
  {
   "cell_type": "code",
   "execution_count": 17,
   "metadata": {},
   "outputs": [
    {
     "data": {
      "application/vnd.jupyter.widget-view+json": {
       "model_id": "f194454ae2194929b611e3cefe85112e",
       "version_major": 2,
       "version_minor": 0
      },
      "text/plain": [
       "  0%|          | 0/192 [00:00<?, ?it/s]"
      ]
     },
     "metadata": {},
     "output_type": "display_data"
    }
   ],
   "source": [
    "ref_dict = {\n",
    "    str(p): (255 - 255 * plt.imread(p)).astype(np.float32)\n",
    "    for p in tqdm(list((figure_root_dir / \"bokeh\").glob(\"reference_*.png\")))\n",
    "}\n",
    "\n",
    "# files = seq((figure_root_dir / \"bokeh\").glob(\"*200000*ls=linear*lw=1.png\")).filter(lambda x: 'reference' not in x.name).to_list()\n",
    "files = seq((figure_root_dir / \"bokeh\").glob(\"*.png\")).filter(lambda x: 'reference' not in x.name).to_list()"
   ]
  },
  {
   "cell_type": "code",
   "execution_count": 21,
   "metadata": {},
   "outputs": [
    {
     "data": {
      "application/vnd.jupyter.widget-view+json": {
       "model_id": "76160a8832564697b7dbf246460c297c",
       "version_major": 2,
       "version_minor": 0
      },
      "text/plain": [
       "  0%|          | 0/293376 [00:00<?, ?it/s]"
      ]
     },
     "metadata": {},
     "output_type": "display_data"
    }
   ],
   "source": [
    "def wrap_compute_dssim_bokeh(agg_path):\n",
    "    return compute_dssim_plotly(agg_path, mse=True, ref_dict=ref_dict)\n",
    "\n",
    "out = []\n",
    "with Pool(processes=8) as pool:\n",
    "    results = pool.imap_unordered(wrap_compute_dssim_bokeh, files)\n",
    "    results = tqdm(results, total=len(files))\n",
    "    try:\n",
    "        out = [f for f in results]\n",
    "        del results\n",
    "    except:\n",
    "        traceback.print_exc()\n",
    "        pool.terminate()\n",
    "    finally:\n",
    "        pool.close()\n",
    "        pool.join()\n",
    "\n",
    "\n",
    "df_out = pd.concat(out, axis=1).T\n",
    "# df_out.to_csv(\"../loc_data/bokeh_metrics_v4.csv\", index=False)\n",
    "\n",
    "cat_cols = ['toolkit', 'data', 'aggregator', 'ls']\n",
    "int_cols = ['n', 'lw', 'n_out']\n",
    "for c in cat_cols:\n",
    "    df_out[c] = df_out[c].astype('category')\n",
    "for c in int_cols:\n",
    "    df_out[c] = df_out[c].astype('int')\n",
    "df_out['aa'] = df_out['aa'].astype('bool')\n",
    "\n",
    "\n",
    "for c in set(df_out.columns).difference(cat_cols + int_cols + ['aa']):\n",
    "    df_out[c] = df_out[c].astype('float')\n",
    "df_out.to_parquet(\"../loc_data/bokeh_metrics_v4.parquet\")\n"
   ]
  }
 ],
 "metadata": {
  "kernelspec": {
   "display_name": "Python 3 (ipykernel)",
   "language": "python",
   "name": "python3"
  },
  "language_info": {
   "codemirror_mode": {
    "name": "ipython",
    "version": 3
   },
   "file_extension": ".py",
   "mimetype": "text/x-python",
   "name": "python",
   "nbconvert_exporter": "python",
   "pygments_lexer": "ipython3",
   "version": "3.10.10"
  },
  "orig_nbformat": 4
 },
 "nbformat": 4,
 "nbformat_minor": 2
}
